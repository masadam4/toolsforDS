{
  "nbformat": 4,
  "nbformat_minor": 0,
  "metadata": {
    "colab": {
      "provenance": []
    },
    "kernelspec": {
      "name": "python3",
      "display_name": "Python 3"
    },
    "language_info": {
      "name": "python"
    }
  },
  "cells": [
    {
      "cell_type": "markdown",
      "source": [
        "Data Science Tools and Ecosystem"
      ],
      "metadata": {
        "id": "JROmTIo34nlJ"
      }
    },
    {
      "cell_type": "markdown",
      "source": [
        "In this notebook, Data Science Tools and Ecosystem are summarized."
      ],
      "metadata": {
        "id": "ULKa1dAh4zg6"
      }
    },
    {
      "cell_type": "markdown",
      "source": [
        "Some of the popular languages that Data Scientists use are:\n"
      ],
      "metadata": {
        "id": "boVrWGU55Cfp"
      }
    },
    {
      "cell_type": "code",
      "source": [
        "ordered_list = [\"Python\", \"R\", \"SQL\"]\n",
        "ordered_list"
      ],
      "metadata": {
        "colab": {
          "base_uri": "https://localhost:8080/"
        },
        "id": "d3Oou4Wp5FG_",
        "outputId": "7576d0d1-4bb1-4a27-d54d-9ef3fc98c435"
      },
      "execution_count": null,
      "outputs": [
        {
          "output_type": "execute_result",
          "data": {
            "text/plain": [
              "['Python', 'R', 'SQL']"
            ]
          },
          "metadata": {},
          "execution_count": 4
        }
      ]
    },
    {
      "cell_type": "markdown",
      "source": [
        "Some of the commonly used libraries used by Data Scientists include:\n"
      ],
      "metadata": {
        "id": "46kYc_vb5laB"
      }
    },
    {
      "cell_type": "code",
      "source": [
        "ordered_list = [\"Pandas\", \"Numpy\", \"Matplotlib\"]"
      ],
      "metadata": {
        "id": "BMuLdKic5l_x"
      },
      "execution_count": null,
      "outputs": []
    },
    {
      "cell_type": "markdown",
      "source": [
        "Create a markdown cell with a table of Data Science tools"
      ],
      "metadata": {
        "id": "kXs2W8tR6gbz"
      }
    },
    {
      "cell_type": "code",
      "source": [
        "import pandas as pd\n",
        "\n",
        "dict = {\"Data Science Tools\":ordered_list }\n",
        "df = pd.DataFrame(dict)\n",
        "print(df)"
      ],
      "metadata": {
        "colab": {
          "base_uri": "https://localhost:8080/"
        },
        "id": "zWDGXvqY6g93",
        "outputId": "eea01378-998d-4f3f-8616-bcc78f5b6c17"
      },
      "execution_count": null,
      "outputs": [
        {
          "output_type": "stream",
          "name": "stdout",
          "text": [
            "  Data Science Tools\n",
            "0             Pandas\n",
            "1              Numpy\n",
            "2         Matplotlib\n"
          ]
        }
      ]
    },
    {
      "cell_type": "code",
      "source": [],
      "metadata": {
        "id": "ZiCL_bEx7VdB"
      },
      "execution_count": null,
      "outputs": []
    },
    {
      "cell_type": "markdown",
      "source": [
        "## Below are a few examples of evaluating arithmetic expressions in Python.\n"
      ],
      "metadata": {
        "id": "VNXK9tdy7UUL"
      }
    },
    {
      "cell_type": "code",
      "source": [
        "#This a simple arithmetic expression to mutiply then add integers.\n",
        "(3*4)+5"
      ],
      "metadata": {
        "colab": {
          "base_uri": "https://localhost:8080/"
        },
        "id": "N8WoLSCy7a-6",
        "outputId": "15d8e92b-c044-4458-df07-efe76a301bb6"
      },
      "execution_count": null,
      "outputs": [
        {
          "output_type": "execute_result",
          "data": {
            "text/plain": [
              "17"
            ]
          },
          "metadata": {},
          "execution_count": 8
        }
      ]
    },
    {
      "cell_type": "code",
      "source": [],
      "metadata": {
        "id": "rhxtlVlf7pvN"
      },
      "execution_count": null,
      "outputs": []
    },
    {
      "cell_type": "markdown",
      "source": [
        "Exercise 9 - Create a code cell to convert minutes to hours"
      ],
      "metadata": {
        "id": "RD_ybB8_7tKz"
      }
    },
    {
      "cell_type": "code",
      "source": [
        "def minstohours(m):\n",
        "    return m/60\n",
        "\n",
        "#This will convert 200 minutes to hours by diving by 60\n",
        "minstohours(200)"
      ],
      "metadata": {
        "colab": {
          "base_uri": "https://localhost:8080/"
        },
        "id": "JB_KJtzX7tt-",
        "outputId": "bfdfea30-68f3-4cf6-ad83-c0d135b550d5"
      },
      "execution_count": null,
      "outputs": [
        {
          "output_type": "execute_result",
          "data": {
            "text/plain": [
              "3.3333333333333335"
            ]
          },
          "metadata": {},
          "execution_count": 12
        }
      ]
    },
    {
      "cell_type": "markdown",
      "source": [
        "Exercise 10 - Insert a markdown cell to list Objectives"
      ],
      "metadata": {
        "id": "9wgU5oDx8h5_"
      }
    },
    {
      "cell_type": "markdown",
      "source": [
        "**Objectives:**"
      ],
      "metadata": {
        "id": "s6ZtId9q8UWz"
      }
    },
    {
      "cell_type": "markdown",
      "source": [
        "\n",
        "\n",
        "*   Python\n",
        "*   R\n",
        "*   SQL\n",
        "*   Java\n",
        "\n"
      ],
      "metadata": {
        "id": "6MHZBacq8WJs"
      }
    },
    {
      "cell_type": "markdown",
      "source": [
        "Exercise 11 - Create a markdown cell to indicate the Author's name"
      ],
      "metadata": {
        "id": "KLG8wbYC8sWs"
      }
    },
    {
      "cell_type": "markdown",
      "source": [
        "Author: Geraint Chow"
      ],
      "metadata": {
        "id": "6L4IhlJi8uCa"
      }
    }
  ]
}